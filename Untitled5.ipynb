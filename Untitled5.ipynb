{
  "nbformat": 4,
  "nbformat_minor": 0,
  "metadata": {
    "colab": {
      "provenance": [],
      "authorship_tag": "ABX9TyPYhr4mDycmQug9/OZoyv9P",
      "include_colab_link": true
    },
    "kernelspec": {
      "name": "python3",
      "display_name": "Python 3"
    },
    "language_info": {
      "name": "python"
    }
  },
  "cells": [
    {
      "cell_type": "markdown",
      "metadata": {
        "id": "view-in-github",
        "colab_type": "text"
      },
      "source": [
        "<a href=\"https://colab.research.google.com/github/pedro-delima/google-collab/blob/main/Untitled5.ipynb\" target=\"_parent\"><img src=\"https://colab.research.google.com/assets/colab-badge.svg\" alt=\"Open In Colab\"/></a>"
      ]
    },
    {
      "cell_type": "code",
      "execution_count": 1,
      "metadata": {
        "colab": {
          "base_uri": "https://localhost:8080/"
        },
        "id": "Q_NNf-PbcTe0",
        "outputId": "6413de21-4492-4c3f-af8a-44f668e7486b"
      },
      "outputs": [
        {
          "output_type": "stream",
          "name": "stdout",
          "text": [
            "Hello, World\n"
          ]
        }
      ],
      "source": [
        "print('Hello, World')"
      ]
    },
    {
      "cell_type": "code",
      "source": [
        "print('Bem vindo ao programa de sucessor e antecessor!')\n",
        "n1 = int(input('Digite um número: '))\n",
        "print(f'O sucessor de {n1} é {n1 + 1} e antecessor é {n1 -1}')"
      ],
      "metadata": {
        "colab": {
          "base_uri": "https://localhost:8080/"
        },
        "id": "sESQTw9KcmWN",
        "outputId": "f2223caf-c0a0-4e0c-cb88-69b8d9e56935"
      },
      "execution_count": 2,
      "outputs": [
        {
          "output_type": "stream",
          "name": "stdout",
          "text": [
            "Bem vindo ao programa de sucessor e antecessor!\n",
            "Digite um número: 2\n",
            "O sucessor de 2 é 3 e antecessor é 1\n"
          ]
        }
      ]
    },
    {
      "cell_type": "code",
      "source": [
        "print('Bem vindo ao programa de calculo do dobro e da terça parte!')\n",
        "num = int(input('Digite um número: '))\n",
        "print(f'O dobro de {num} é {num * 2} e a terça parte é {num / 3}')"
      ],
      "metadata": {
        "colab": {
          "base_uri": "https://localhost:8080/"
        },
        "id": "mo1lrQowdzlc",
        "outputId": "9aeb33b7-b9a6-4037-d48a-b23824dcea3c"
      },
      "execution_count": 3,
      "outputs": [
        {
          "output_type": "stream",
          "name": "stdout",
          "text": [
            "Bem vindo ao programa de calculo do dobro e da terça parte!\n",
            "Digite um número: 4\n",
            "O dobro de 4 é 8 e a terça parte é 1.3333333333333333\n"
          ]
        }
      ]
    },
    {
      "cell_type": "code",
      "source": [
        "print('Bem vindo ao programa de converção de metros')\n",
        "metros = float(input('Digite um valor em metros: '))\n",
        "milimetros = metros * 1000\n",
        "centimetros = metros * 100\n",
        "decimetros = metros * 10\n",
        "print(f'{metros}m em centimetros é {centimetros}cm')\n",
        "print(f'{metros}m em milimetros é {milimetros}mm')\n",
        "print(f'{metros}m em decimetros é {decimetros}dm')\n"
      ],
      "metadata": {
        "colab": {
          "base_uri": "https://localhost:8080/"
        },
        "id": "sku7--USe6ld",
        "outputId": "d11f4bf5-46a9-4913-deb5-cc5e324b7932"
      },
      "execution_count": 5,
      "outputs": [
        {
          "output_type": "stream",
          "name": "stdout",
          "text": [
            "Bem vindo ao programa de converção de metros\n",
            "Digite um valor em metros: 567.87\n",
            "567.87m em centimetros é 56787.0cm\n",
            "567.87m em milimetros é 567870.0mm\n",
            "567.87m em decimetros é 5678.7dm\n"
          ]
        }
      ]
    },
    {
      "cell_type": "code",
      "source": [
        "print('Bem vindo ao programa de conversão de reais em dolares')\n",
        "dolar = 5.79\n",
        "real = float(input('Digite um valor em reais: '))\n",
        "\n",
        "print(f'O valor em dolares é {real / dolar}')\n",
        "\n",
        "\n"
      ],
      "metadata": {
        "colab": {
          "base_uri": "https://localhost:8080/"
        },
        "id": "nUteEgTQgAKc",
        "outputId": "0e846593-d72d-4107-c150-e457660d8671"
      },
      "execution_count": 8,
      "outputs": [
        {
          "output_type": "stream",
          "name": "stdout",
          "text": [
            "Bem vindo ao programa de conversão de reais em dolares\n",
            "Digite um valor em reais: 7\n",
            "O valor em dolares é 1.2089810017271156\n"
          ]
        }
      ]
    },
    {
      "cell_type": "code",
      "source": [
        "print('Bem vindo ao programa de calculo da area de uma parede e a quantidade de tinta necessaria')\n",
        "\n",
        "def area1(a, l):\n",
        "\n",
        "  area = a * l\n",
        "\n",
        "  return area\n",
        "altura = float(input('Digite a altura da parede'))\n",
        "largura = float(input('Digite a largura da parede'))\n",
        "\n",
        "a = area1(altura, largura)\n",
        "def tinta(arg):\n",
        "  calculo = arg / 2\n",
        "  return calculo\n",
        "print(f'A area total é {a} e serão necessarios {tinta(a)} litros de tinta')\n"
      ],
      "metadata": {
        "colab": {
          "base_uri": "https://localhost:8080/"
        },
        "id": "Ham3lTc_gkvk",
        "outputId": "3e4fcb99-4b65-4f76-ae6d-3a17c648fefb"
      },
      "execution_count": 18,
      "outputs": [
        {
          "output_type": "stream",
          "name": "stdout",
          "text": [
            "Bem vindo ao programa de calculo da area de uma parede e a quantidade de tinta necessaria\n",
            "Digite a altura da parede12\n",
            "Digite a largura da parede12\n",
            "A area total é 144.0 e serão necessarios 72.0 litros de tinta\n"
          ]
        }
      ]
    },
    {
      "cell_type": "code",
      "source": [
        "print('Bem vindo ao programa de calculo de desconto')\n"
      ],
      "metadata": {
        "id": "UnHITCKemhS0"
      },
      "execution_count": null,
      "outputs": []
    }
  ]
}