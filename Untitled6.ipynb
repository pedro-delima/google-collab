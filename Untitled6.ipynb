{
  "nbformat": 4,
  "nbformat_minor": 0,
  "metadata": {
    "colab": {
      "provenance": [],
      "authorship_tag": "ABX9TyOkEm++9E8gzuMjXj5YM2ms",
      "include_colab_link": true
    },
    "kernelspec": {
      "name": "python3",
      "display_name": "Python 3"
    },
    "language_info": {
      "name": "python"
    }
  },
  "cells": [
    {
      "cell_type": "markdown",
      "metadata": {
        "id": "view-in-github",
        "colab_type": "text"
      },
      "source": [
        "<a href=\"https://colab.research.google.com/github/pedro-delima/google-collab/blob/main/Untitled6.ipynb\" target=\"_parent\"><img src=\"https://colab.research.google.com/assets/colab-badge.svg\" alt=\"Open In Colab\"/></a>"
      ]
    },
    {
      "cell_type": "code",
      "execution_count": 12,
      "metadata": {
        "colab": {
          "base_uri": "https://localhost:8080/"
        },
        "id": "rhLDNMxKT3-P",
        "outputId": "cd365b0c-4bda-416d-c82a-c8e0f4515ac9"
      },
      "outputs": [
        {
          "output_type": "stream",
          "name": "stdout",
          "text": [
            "Bem vindo ao programa de calculo do delta\n",
            "Para sair deixe em branco\n",
            "Digite o valor de A145\n",
            "Digite o valor de B13\n",
            "Digite o valor de C14\n",
            "12905.0\n",
            "Digite o valor de A35\n",
            "Digite o valor de B35\n",
            "Digite o valor de C56\n",
            "-6615.0\n",
            "Digite o valor de A\n",
            "Digite o valor de B\n",
            "Digite o valor de C\n",
            "Fim do programa\n"
          ]
        }
      ],
      "source": [
        "import math\n",
        "print('Bem vindo ao programa de calculo do delta')\n",
        "print('Para sair deixe em branco')\n",
        "def Delta(A,B, C):\n",
        "  delta = math.pow(A, 2) - 4 * A * C\n",
        "  return delta\n",
        "while True:\n",
        "  a = input('Digite o valor de A')\n",
        "  b = input('Digite o valor de B')\n",
        "  c = input('Digite o valor de C')\n",
        "  if a.isnumeric() == True and b.isnumeric() == True and c.isnumeric() == True:\n",
        "    a = int(a)\n",
        "    b = int(b)\n",
        "    c = int(c)\n",
        "    Delta(a, b, c)\n",
        "    print(Delta(a, b, c))\n",
        "\n",
        "  else:\n",
        "    print('Fim do programa')\n",
        "    break\n",
        "\n",
        "\n",
        "\n"
      ]
    },
    {
      "cell_type": "code",
      "source": [
        "print('Bem vindo ao programa para descobrir os divisores de um numero')\n",
        "numero = int(input('Digite um numero: '))\n",
        "for i in range(1, numero):\n",
        "  if numero % i == 0:\n",
        "    print(f'O numero {numero} é divisivel por {i}')"
      ],
      "metadata": {
        "colab": {
          "base_uri": "https://localhost:8080/"
        },
        "id": "UcKIqokMiS9v",
        "outputId": "20c393f5-2d0d-4545-ae3e-19131d5d6f67"
      },
      "execution_count": 26,
      "outputs": [
        {
          "output_type": "stream",
          "name": "stdout",
          "text": [
            "Bem vindo ao programa para descobrir os divisores de um numero\n",
            "Digite um numero: 144\n",
            "O numero 144 é divisivel por 1\n",
            "O numero 144 é divisivel por 2\n",
            "O numero 144 é divisivel por 3\n",
            "O numero 144 é divisivel por 4\n",
            "O numero 144 é divisivel por 6\n",
            "O numero 144 é divisivel por 8\n",
            "O numero 144 é divisivel por 9\n",
            "O numero 144 é divisivel por 12\n",
            "O numero 144 é divisivel por 16\n",
            "O numero 144 é divisivel por 18\n",
            "O numero 144 é divisivel por 24\n",
            "O numero 144 é divisivel por 36\n",
            "O numero 144 é divisivel por 48\n",
            "O numero 144 é divisivel por 72\n"
          ]
        }
      ]
    },
    {
      "cell_type": "code",
      "source": [
        "print('Bem vindo ao programa da quantidade de numeros pares')\n",
        "numeroInicial = int(input('Digite um numero inicial '))\n",
        "numeroFinal = int(input('Digite o numero final '))\n",
        "for i in range(numeroInicial, numeroFinal):\n",
        "  if i % 2 == 0:\n",
        "    print(f'O numero {i} é par')\n"
      ],
      "metadata": {
        "colab": {
          "base_uri": "https://localhost:8080/"
        },
        "id": "zKIwKXA1kLsX",
        "outputId": "264a3555-4468-4403-ff8b-6911da0ce0cd"
      },
      "execution_count": 28,
      "outputs": [
        {
          "output_type": "stream",
          "name": "stdout",
          "text": [
            "Bem vindo ao programa da quantidade de numeros pares\n",
            "Digite um numero inicial 10\n",
            "Digite o numero final 20\n",
            "O numero 10 é par1\n",
            "O numero 12 é par1\n",
            "O numero 14 é par1\n",
            "O numero 16 é par1\n",
            "O numero 18 é par1\n"
          ]
        }
      ]
    },
    {
      "cell_type": "code",
      "source": [
        "print('Bem vindo ao programa de calculo do desconto')\n",
        "print('Para sair digite parar')\n",
        "def promocao(produto, preco, desconto):\n",
        "  total = preco - desconto/100\n",
        "  return total\n",
        "while True:\n",
        "  produto = input('Digite o nome do produto ')\n",
        "  preco = input('Digite o preço do produto ')\n",
        "  desconto = input('Digite o desconto do produto ' )\n",
        "  if produto.lower() == 'parar':\n",
        "    print('Fim do programa')\n",
        "    break\n",
        "  else:\n",
        "    desconto = float(desconto)\n",
        "    preco = float(preco)\n",
        "    print(f'O produto {produto} tem o preço de {preco}, mas está com desconto de {desconto}% o que faz seu preço final ser de {promocao(produto, preco, desconto)}')\n"
      ],
      "metadata": {
        "colab": {
          "base_uri": "https://localhost:8080/"
        },
        "id": "am2_rhKGZYOv",
        "outputId": "5a15d148-554e-4c4b-9b76-7ae7ebd90098"
      },
      "execution_count": 16,
      "outputs": [
        {
          "output_type": "stream",
          "name": "stdout",
          "text": [
            "Bem vindo ao programa de calculo do desconto\n",
            "Para sair digite parar\n",
            "Digite o nome do produto parar\n",
            "Digite o preço do produto 5\n",
            "Digite o desconto do produto 6\n",
            "Fim do programa\n"
          ]
        }
      ]
    },
    {
      "cell_type": "code",
      "source": [
        "print('Bem vindo ao programa de quantidade de vogais')\n",
        "nome = input('Digite um nome')\n",
        "contador = 0\n",
        "tamanho = len(nome)\n",
        "for i in range(tamanho):\n",
        "  print(nome[i])\n",
        "  if nome[i] == 'a' or nome[i] == 'e' or nome[i] == 'i' or nome[i] == 'o' or nome[i] == 'u':\n",
        "    contador += 1\n",
        "print(f'vogais: {contador}')"
      ],
      "metadata": {
        "colab": {
          "base_uri": "https://localhost:8080/"
        },
        "id": "dN5UI8ElbOWP",
        "outputId": "ddceccce-101d-4fed-fe4b-a4293c3f9af0"
      },
      "execution_count": 25,
      "outputs": [
        {
          "output_type": "stream",
          "name": "stdout",
          "text": [
            "Bem vindo ao programa de quantidade de vogais\n",
            "Digite um nomepaulo\n",
            "p\n",
            "a\n",
            "u\n",
            "l\n",
            "o\n",
            "vogais: 3\n"
          ]
        }
      ]
    },
    {
      "cell_type": "code",
      "source": [
        "print('Bem vindo ao programa da mediana')\n",
        "lista = []dv\n",
        "while True:\n",
        "  numero = input('Digite um numero ')\n",
        "  if numero.isnumeric() == True:\n",
        "    numero = int(numero)\n",
        "    lista.append(numero)\n",
        "    print(lista)\n",
        "\n",
        "  else:\n",
        "    break\n",
        "ordenacao = lista.sort()\n",
        "tamanho = len(ordenacao)\n",
        "if tamanho % 2 == 0:\n",
        "  mediana1 = tamanho / 2\n",
        "  medianaTotal = ordenacao[mediana] + ordenacao[mediana + 1]\n",
        "  print(mediana)"
      ],
      "metadata": {
        "colab": {
          "base_uri": "https://localhost:8080/",
          "height": 349
        },
        "id": "zaqk984GleWX",
        "outputId": "95f83708-b143-41e5-8a90-9ea6dd200505"
      },
      "execution_count": 45,
      "outputs": [
        {
          "name": "stdout",
          "output_type": "stream",
          "text": [
            "Bem vindo ao programa da mediana\n",
            "Digite um numero 1\n",
            "[1]\n",
            "Digite um numero 2\n",
            "[1, 2]\n",
            "Digite um numero 3\n",
            "[1, 2, 3]\n",
            "Digite um numero 'ddc'\n"
          ]
        },
        {
          "output_type": "error",
          "ename": "TypeError",
          "evalue": "object of type 'NoneType' has no len()",
          "traceback": [
            "\u001b[0;31m---------------------------------------------------------------------------\u001b[0m",
            "\u001b[0;31mTypeError\u001b[0m                                 Traceback (most recent call last)",
            "\u001b[0;32m<ipython-input-45-5e83a00e552a>\u001b[0m in \u001b[0;36m<cell line: 0>\u001b[0;34m()\u001b[0m\n\u001b[1;32m     11\u001b[0m     \u001b[0;32mbreak\u001b[0m\u001b[0;34m\u001b[0m\u001b[0;34m\u001b[0m\u001b[0m\n\u001b[1;32m     12\u001b[0m \u001b[0mordenacao\u001b[0m \u001b[0;34m=\u001b[0m \u001b[0mlista\u001b[0m\u001b[0;34m.\u001b[0m\u001b[0msort\u001b[0m\u001b[0;34m(\u001b[0m\u001b[0;34m)\u001b[0m\u001b[0;34m\u001b[0m\u001b[0;34m\u001b[0m\u001b[0m\n\u001b[0;32m---> 13\u001b[0;31m \u001b[0mtamanho\u001b[0m \u001b[0;34m=\u001b[0m \u001b[0mlen\u001b[0m\u001b[0;34m(\u001b[0m\u001b[0mordenacao\u001b[0m\u001b[0;34m)\u001b[0m\u001b[0;34m\u001b[0m\u001b[0;34m\u001b[0m\u001b[0m\n\u001b[0m\u001b[1;32m     14\u001b[0m \u001b[0;32mif\u001b[0m \u001b[0mtamanho\u001b[0m \u001b[0;34m%\u001b[0m \u001b[0;36m2\u001b[0m \u001b[0;34m==\u001b[0m \u001b[0;36m0\u001b[0m\u001b[0;34m:\u001b[0m\u001b[0;34m\u001b[0m\u001b[0;34m\u001b[0m\u001b[0m\n\u001b[1;32m     15\u001b[0m   \u001b[0mmediana1\u001b[0m \u001b[0;34m=\u001b[0m \u001b[0mtamanho\u001b[0m \u001b[0;34m/\u001b[0m \u001b[0;36m2\u001b[0m\u001b[0;34m\u001b[0m\u001b[0;34m\u001b[0m\u001b[0m\n",
            "\u001b[0;31mTypeError\u001b[0m: object of type 'NoneType' has no len()"
          ]
        }
      ]
    },
    {
      "cell_type": "code",
      "source": [
        "print('Bem vindo ao programa de informar o tipo de numero')\n",
        "while True:\n",
        "  numero = input('Digite um numero ou digite parar para sair')\n",
        "  if numero == 'parar':\n",
        "    print('Fim do programa')\n",
        "  else:\n",
        "    numero = int(numero)\n",
        ""
      ],
      "metadata": {
        "id": "1uzGUcM6ehKf"
      },
      "execution_count": null,
      "outputs": []
    }
  ]
}